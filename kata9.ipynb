{
 "cells": [
  {
   "cell_type": "markdown",
   "metadata": {},
   "source": [
    "## Kata 9\n",
    "Ejercicio 1:"
   ]
  },
  {
   "cell_type": "code",
   "execution_count": 9,
   "metadata": {},
   "outputs": [
    {
     "name": "stdout",
     "output_type": "stream",
     "text": [
      "Reporte de combustible:\n",
      "    promedio total: 78.0%\n",
      "    tanque 1: 88%\n",
      "    tanque 2: 76%\n",
      "    tanque 3: 70%\n",
      "    \n"
     ]
    }
   ],
   "source": [
    "# Funcion para leer 3 tanques de combustible y muestre el promedio\n",
    "##def combustible(tanque1, tanque2, tanque3):\n",
    " ##   return f\"\"\"Reporte de combustible:\n",
    "   ## tanque 1: {tanque1}\n",
    "   ## tanque 2: {tanque2}\n",
    "   ## tanque 3: {tanque3}\n",
    "   ## \"\"\"\n",
    "\n",
    "# Llamamos a al funcion\n",
    "##print(combustible(0,0,0))\n",
    "\n",
    "# Funcion promedio\n",
    "def promedio(valores):\n",
    "    total = sum(valores)\n",
    "    numero_items = len(valores)\n",
    "    return total/numero_items\n",
    "   \n",
    "# Actualiza la funcion\n",
    "def combustible(tanque1, tanque2, tanque3):\n",
    "    return f\"\"\"Reporte de combustible:\n",
    "    promedio total: {promedio([tanque1, tanque2, tanque3])}%\n",
    "    tanque 1: {tanque1}%\n",
    "    tanque 2: {tanque2}%\n",
    "    tanque 3: {tanque3}%\n",
    "    \"\"\"\n",
    "print(combustible(88, 76, 70))\n"
   ]
  },
  {
   "cell_type": "markdown",
   "metadata": {},
   "source": [
    "Ejercicio 2:"
   ]
  },
  {
   "cell_type": "code",
   "execution_count": 12,
   "metadata": {},
   "outputs": [
    {
     "name": "stdout",
     "output_type": "stream",
     "text": [
      "Informe preciso de viaje:\n",
      "    Destino: luna\n",
      "    hora de despege: 14\n",
      "    tiempo de vuelo: 51\n",
      "    total del viaje: 65\n",
      "    tanque interno de combustible: 300000 galones\n",
      "    tanque externo de combustible: 200000 galones\n",
      "    total de combustible: 500000 galones\n",
      "None\n"
     ]
    }
   ],
   "source": [
    "# Funcion para un informe preciso de la mision.\n",
    "def informe(destino, hora, tiempo, tanque_externo, tanque_interno):\n",
    "    return print(f\"\"\"Informe preciso de viaje:\n",
    "    Destino: {destino}\n",
    "    hora de despege: {hora}\n",
    "    tiempo de vuelo: {tiempo}\n",
    "    total del viaje: {hora + tiempo}\n",
    "    tanque interno de combustible: {tanque_interno} galones\n",
    "    tanque externo de combustible: {tanque_externo} galones\n",
    "    total de combustible: {tanque_externo + tanque_interno} galones\"\"\")\n",
    "print(informe('luna', 14, 51, 200000, 300000))"
   ]
  },
  {
   "cell_type": "code",
   "execution_count": 21,
   "metadata": {},
   "outputs": [
    {
     "name": "stdout",
     "output_type": "stream",
     "text": [
      "\n",
      "Informe preciso de viaje:\n",
      "    Destino: luna\n",
      "    duracion del viaje: 76 minutos    \n",
      "    total de combustible: 500000\n",
      "principal: 200000 galones restantes\n",
      "externo: 300000 galones restantes\n",
      "\n"
     ]
    }
   ],
   "source": [
    "# Escribiendo nueva funcion de reporte\n",
    "def informe(destino, *minutos, **combustible):\n",
    "    informe_principal = f\"\"\"\n",
    "Informe preciso de viaje:\n",
    "    Destino: {destino}\n",
    "    duracion del viaje: {sum(minutos)} minutos    \n",
    "    total de combustible: {sum(combustible.values())}\\n\"\"\"\n",
    "\n",
    "# Agregando un ciclo para mejora la funcion de informe\n",
    "    for tanque, galones in combustible.items():\n",
    "        informe_principal += f\"{tanque}: {galones} galones restantes\\n\"\n",
    "    return informe_principal\n",
    "print(informe('luna', 10, 15, 51, principal=200000, externo=300000))"
   ]
  }
 ],
 "metadata": {
  "interpreter": {
   "hash": "4a1b1d206f0b955c2c0803220b88faeb9c7c2c33e57e2d098de1412380f68d1a"
  },
  "kernelspec": {
   "display_name": "Python 3.9.10 64-bit (windows store)",
   "language": "python",
   "name": "python3"
  },
  "language_info": {
   "codemirror_mode": {
    "name": "ipython",
    "version": 3
   },
   "file_extension": ".py",
   "mimetype": "text/x-python",
   "name": "python",
   "nbconvert_exporter": "python",
   "pygments_lexer": "ipython3",
   "version": "3.9.10"
  },
  "orig_nbformat": 4
 },
 "nbformat": 4,
 "nbformat_minor": 2
}
