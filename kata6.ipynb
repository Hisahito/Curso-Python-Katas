{
 "cells": [
  {
   "cell_type": "markdown",
   "metadata": {},
   "source": [
    "## Kata 6\n",
    "Ejercicio 1:"
   ]
  },
  {
   "cell_type": "code",
   "execution_count": 20,
   "metadata": {},
   "outputs": [
    {
     "name": "stdout",
     "output_type": "stream",
     "text": [
      "['Mercurio', 'Venus', 'Tierra', 'Marte', 'Jupiter', 'Saturno', 'Urano', 'Neptuno']\n",
      "En el sistema solar hay 9 planetas.\n",
      "El ultimo planeta es: Pluton\n"
     ]
    }
   ],
   "source": [
    "# Creando lista de planetas \n",
    "planetas = ['Mercurio', 'Venus', 'Tierra', 'Marte', 'Jupiter', 'Saturno', 'Urano', 'Neptuno']\n",
    "\n",
    "#Imprimiendo en pantalla los planetas\n",
    "print(planetas)\n",
    "\n",
    "# Agregando a Pluton\n",
    "planetas.append('Pluton')\n",
    "\n",
    "# Mostrando el numero de planetas\n",
    "print('En el sistema solar hay', len(planetas), 'planetas.')\n",
    "\n",
    "\n",
    "# Mostrando el ultimo planeta de la lista\n",
    "print('El ultimo planeta es:', planetas[-1])"
   ]
  },
  {
   "cell_type": "markdown",
   "metadata": {},
   "source": [
    "## Kata 6\n",
    "Ejercicio 2:"
   ]
  },
  {
   "cell_type": "code",
   "execution_count": 22,
   "metadata": {},
   "outputs": [
    {
     "name": "stdout",
     "output_type": "stream",
     "text": [
      "los planetas mas cercanos al sol que Jupiter son:  ['Mercurio', 'Venus', 'Tierra', 'Marte']\n",
      "los planetas mas alejados al sol que Jupiter son:  ['Jupiter', 'Saturno', 'Urano', 'Neptuno']\n"
     ]
    }
   ],
   "source": [
    "# Lista de planetas\n",
    "planetas = ['Mercurio', 'Venus', 'Tierra', 'Marte', 'Jupiter', 'Saturno', 'Urano', 'Neptuno']\n",
    "# Solicitamos el nombre del planeta\n",
    "planeta = input('Porfavor ingrese el nombre del planeta con la primera letra mayuscula')\n",
    "# Buscando el planeta en la lista\n",
    "planeta_index = planetas.index(planeta)\n",
    "# Mostrando los planetas mas cercanos al sol\n",
    "print('los planetas mas cercanos al sol que', planeta, 'son: ', planetas[:planeta_index] )\n",
    "# Mostrando los planetas mas alejados al sol\n",
    "print('los planetas mas alejados al sol que', planeta, 'son: ', planetas[planeta_index:] )\n"
   ]
  }
 ],
 "metadata": {
  "interpreter": {
   "hash": "4a1b1d206f0b955c2c0803220b88faeb9c7c2c33e57e2d098de1412380f68d1a"
  },
  "kernelspec": {
   "display_name": "Python 3.9.10 64-bit (windows store)",
   "language": "python",
   "name": "python3"
  },
  "language_info": {
   "codemirror_mode": {
    "name": "ipython",
    "version": 3
   },
   "file_extension": ".py",
   "mimetype": "text/x-python",
   "name": "python",
   "nbconvert_exporter": "python",
   "pygments_lexer": "ipython3",
   "version": "3.9.10"
  },
  "orig_nbformat": 4
 },
 "nbformat": 4,
 "nbformat_minor": 2
}
