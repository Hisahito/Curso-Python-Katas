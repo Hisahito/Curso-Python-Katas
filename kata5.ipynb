{
 "cells": [
  {
   "cell_type": "markdown",
   "metadata": {},
   "source": [
    "## Kata 5\n",
    "Ejercico 1"
   ]
  },
  {
   "cell_type": "code",
   "execution_count": 10,
   "metadata": {},
   "outputs": [
    {
     "name": "stdout",
     "output_type": "stream",
     "text": [
      "390577534\n"
     ]
    }
   ],
   "source": [
    "# creando variables para almacenar distancias\n",
    "tierra = 149597870 #km\n",
    "jupiter = 778547200 #km\n",
    "\n",
    "#calculando la distancia entre planetas\n",
    "distancia = (jupiter - tierra) * 0.621\n",
    "print(round(distancia))"
   ]
  },
  {
   "cell_type": "markdown",
   "metadata": {},
   "source": [
    "## Kata 5\n",
    "Ejercicio 2"
   ]
  },
  {
   "cell_type": "code",
   "execution_count": 13,
   "metadata": {},
   "outputs": [
    {
     "name": "stdout",
     "output_type": "stream",
     "text": [
      "La distancia entre el planeta 1 y el planeta 2 es de:56945700.0\n"
     ]
    }
   ],
   "source": [
    "# Almacenar entradas de usario en variables\n",
    "\n",
    "planeta1 = input('Cual es la distancia del sol para el primer planeta')\n",
    "planeta2 = input('cual es la distancia del sol para el segundo planeta?')\n",
    "\n",
    "# Conviertiendo los valores de entrada a numeros\n",
    "planeta1 = int(planeta1)\n",
    "planeta2 = int(planeta2)\n",
    "\n",
    "# Calculo para determinar la distancia \n",
    "distancia_km = planeta1 - planeta2\n",
    "\n",
    "# Convertiendo Km a Millas\n",
    "distancia_mi = distancia_km * 0.621\n",
    "print('La distancia entre el planeta 1 y el planeta 2 es de: ' +str(abs(distancia_mi)))\n",
    "\n"
   ]
  }
 ],
 "metadata": {
  "interpreter": {
   "hash": "4a1b1d206f0b955c2c0803220b88faeb9c7c2c33e57e2d098de1412380f68d1a"
  },
  "kernelspec": {
   "display_name": "Python 3.9.10 64-bit (windows store)",
   "language": "python",
   "name": "python3"
  },
  "language_info": {
   "codemirror_mode": {
    "name": "ipython",
    "version": 3
   },
   "file_extension": ".py",
   "mimetype": "text/x-python",
   "name": "python",
   "nbconvert_exporter": "python",
   "pygments_lexer": "ipython3",
   "version": "3.9.10"
  },
  "orig_nbformat": 4
 },
 "nbformat": 4,
 "nbformat_minor": 2
}
