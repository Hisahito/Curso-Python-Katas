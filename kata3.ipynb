{
 "cells": [
  {
   "cell_type": "markdown",
   "metadata": {},
   "source": [
    "## Kata 3"
   ]
  },
  {
   "cell_type": "code",
   "execution_count": 12,
   "metadata": {},
   "outputs": [
    {
     "name": "stdout",
     "output_type": "stream",
     "text": [
      "ALERTA!! Asteroide a gran velocidad detectado\n"
     ]
    }
   ],
   "source": [
    "asteroide = 49\n",
    "velocidad_limite = 25\n",
    "tamano = 1000\n",
    "\n",
    "if asteroide >= velocidad_limite and tamano <= 1000:\n",
    " print('ALERTA!! Asteroide a gran velocidad detectado')\n",
    "else:\n",
    " print('Sigue con tu dia')"
   ]
  },
  {
   "cell_type": "code",
   "execution_count": 6,
   "metadata": {},
   "outputs": [
    {
     "name": "stdout",
     "output_type": "stream",
     "text": [
      "\n"
     ]
    }
   ],
   "source": [
    "asteroide2 = 19\n",
    "velocidad = 20\n",
    "\n",
    "if asteroide2 >= velocidad:\n",
    " print('Mire al cielo, probablemente se este produciendo un rayo de luz por la entrada del Asteroide')\n",
    "else:\n",
    " print('Nada que ver el dia de hoy')"
   ]
  },
  {
   "cell_type": "code",
   "execution_count": 16,
   "metadata": {},
   "outputs": [
    {
     "name": "stdout",
     "output_type": "stream",
     "text": [
      "ALERTA!! Asteroide a gran velocidad detectado\n"
     ]
    }
   ],
   "source": [
    "tamano_asteroide = 40\n",
    "velocidad_asteroide = 25\n",
    "\n",
    "if velocidad_asteroide > 25 and tamano_asteroide > 25:\n",
    " print('ALERTA!! Asteroide a gran velocidad detectado')\n",
    "elif velocidad_asteroide >= 20:\n",
    " print('Mire al cielo, probablemente se este produciendo un rayo de luz por la entrada del Asteroide')\n",
    "elif tamano_asteroide < 25:\n",
    " print('Nada que ver el dia de hoy')\n",
    "else:\n",
    " print('Nada que ver el dia de hoy')"
   ]
  }
 ],
 "metadata": {
  "interpreter": {
   "hash": "4a1b1d206f0b955c2c0803220b88faeb9c7c2c33e57e2d098de1412380f68d1a"
  },
  "kernelspec": {
   "display_name": "Python 3.9.10 64-bit (windows store)",
   "language": "python",
   "name": "python3"
  },
  "language_info": {
   "codemirror_mode": {
    "name": "ipython",
    "version": 3
   },
   "file_extension": ".py",
   "mimetype": "text/x-python",
   "name": "python",
   "nbconvert_exporter": "python",
   "pygments_lexer": "ipython3",
   "version": "3.9.10"
  },
  "orig_nbformat": 4
 },
 "nbformat": 4,
 "nbformat_minor": 2
}
