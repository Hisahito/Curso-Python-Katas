{
 "cells": [
  {
   "cell_type": "markdown",
   "metadata": {},
   "source": [
    "## Kata 8\n",
    "Ejercicio 1:"
   ]
  },
  {
   "cell_type": "code",
   "execution_count": 7,
   "metadata": {},
   "outputs": [
    {
     "name": "stdout",
     "output_type": "stream",
     "text": [
      "el planeta es: Marte y tiene 2 lunas\n",
      "el planeta es: Marte y tiene una circunferencia polar de: 6752\n"
     ]
    }
   ],
   "source": [
    "# Creando diccionario \n",
    "planeta = {\n",
    "    'nombre': 'Marte',\n",
    "    'lunas': 2\n",
    "}\n",
    "# Mostrando el nombre del planeta y el numero de lunas\n",
    "print(f\"el planeta es: {planeta.get('nombre')} y tiene {planeta['lunas']} lunas\")\n",
    "\n",
    "# Agregando la clave de circuferencia \n",
    "planeta['circunferencia (km)'] = {\n",
    "    'polar': 6752,\n",
    "    'equatorial': 6792\n",
    "}\n",
    "\n",
    "# Imprimiendo el nombre del planeta con su circunferencia\n",
    "print(f\"el planeta es: {planeta.get('nombre')} y tiene una circunferencia polar de: {planeta['circunferencia (km)']['polar']}\")"
   ]
  },
  {
   "cell_type": "markdown",
   "metadata": {},
   "source": [
    "Ejercicio 2: Calculo de Valores"
   ]
  },
  {
   "cell_type": "code",
   "execution_count": 15,
   "metadata": {},
   "outputs": [
    {
     "name": "stdout",
     "output_type": "stream",
     "text": [
      "Existen: 12 planetas en el sistema \n",
      "con un total de: 214 lunas en el sistema\n",
      "entonces el promedio entre planetas y lunas es: 17.833333333333332\n"
     ]
    }
   ],
   "source": [
    "# Planetas y lunas\n",
    "planetas_lunas = {\n",
    "    'mercurio': 0,\n",
    "    'venus': 0,\n",
    "    'tierra': 1,\n",
    "    'marte': 2,\n",
    "    'jupiter': 79,\n",
    "    'saturno': 82,\n",
    "    'urano': 27,\n",
    "    'neptuno': 14,\n",
    "    'pluton': 5,\n",
    "    'haumea': 2,\n",
    "    'makemake': 1,\n",
    "    'eris': 1\n",
    "}\n",
    "\n",
    "# Anadiendo codigo para determinar numero de lunas y planetas\n",
    "numero_lunas = 0\n",
    "numero_planetas = len(planetas_lunas.keys())\n",
    "print(f'Existen: {numero_planetas} planetas en el sistema ')\n",
    "\n",
    "# Ciclo for para conocer el total de lunas en el sistema\n",
    "for lunas in planetas_lunas.values():\n",
    "    numero_lunas = numero_lunas + lunas\n",
    "print(f'con un total de: {numero_lunas} lunas en el sistema')\n",
    "\n",
    "# Calculando el promedio \n",
    "promedio = numero_lunas / numero_planetas\n",
    "print(f'entonces el promedio entre planetas y lunas es: {promedio}')\n"
   ]
  }
 ],
 "metadata": {
  "interpreter": {
   "hash": "4a1b1d206f0b955c2c0803220b88faeb9c7c2c33e57e2d098de1412380f68d1a"
  },
  "kernelspec": {
   "display_name": "Python 3.9.10 64-bit (windows store)",
   "language": "python",
   "name": "python3"
  },
  "language_info": {
   "codemirror_mode": {
    "name": "ipython",
    "version": 3
   },
   "file_extension": ".py",
   "mimetype": "text/x-python",
   "name": "python",
   "nbconvert_exporter": "python",
   "pygments_lexer": "ipython3",
   "version": "3.9.10"
  },
  "orig_nbformat": 4
 },
 "nbformat": 4,
 "nbformat_minor": 2
}
