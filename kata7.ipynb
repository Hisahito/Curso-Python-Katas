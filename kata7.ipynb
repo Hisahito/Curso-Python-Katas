{
 "cells": [
  {
   "cell_type": "markdown",
   "metadata": {},
   "source": [
    "## Kata 7\n",
    "Ejercicio 1 y 2:"
   ]
  },
  {
   "cell_type": "code",
   "execution_count": 8,
   "metadata": {},
   "outputs": [
    {
     "name": "stdout",
     "output_type": "stream",
     "text": [
      "tierra\n",
      "marte\n",
      "jupiter\n"
     ]
    }
   ],
   "source": [
    "# Creando un ciclo while\n",
    "nuevo_planeta = input('ingresa los planetas aqui y cuando termines ingresa la plabra \"listo\"') \n",
    "planetas = []\n",
    "\n",
    "# Escribiendo cilo While solicitado\n",
    "while nuevo_planeta.lower() != 'listo':\n",
    "    if nuevo_planeta:\n",
    "        planetas.append(nuevo_planeta)\n",
    "    nuevo_planeta = input('ingrese un nuevo planeta o ingrese \"listo\" si ya termino')\n",
    "\n",
    "# Ejercicio 2\n",
    "# Escribiendo ciclo For para iterar planetas\n",
    "for planeta in planetas:\n",
    "    print(planeta)"
   ]
  }
 ],
 "metadata": {
  "interpreter": {
   "hash": "4a1b1d206f0b955c2c0803220b88faeb9c7c2c33e57e2d098de1412380f68d1a"
  },
  "kernelspec": {
   "display_name": "Python 3.9.10 64-bit (windows store)",
   "language": "python",
   "name": "python3"
  },
  "language_info": {
   "codemirror_mode": {
    "name": "ipython",
    "version": 3
   },
   "file_extension": ".py",
   "mimetype": "text/x-python",
   "name": "python",
   "nbconvert_exporter": "python",
   "pygments_lexer": "ipython3",
   "version": "3.9.10"
  },
  "orig_nbformat": 4
 },
 "nbformat": 4,
 "nbformat_minor": 2
}
